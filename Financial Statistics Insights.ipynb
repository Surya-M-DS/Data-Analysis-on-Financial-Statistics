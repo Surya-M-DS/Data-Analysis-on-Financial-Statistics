{
 "cells": [
  {
   "cell_type": "markdown",
   "id": "4baa0845",
   "metadata": {},
   "source": [
    "## Importing Modules"
   ]
  },
  {
   "cell_type": "code",
   "execution_count": 1,
   "id": "2323aeb7",
   "metadata": {},
   "outputs": [],
   "source": [
    "import pandas as pd"
   ]
  },
  {
   "cell_type": "code",
   "execution_count": 2,
   "id": "fcbafed6",
   "metadata": {},
   "outputs": [],
   "source": [
    "import matplotlib.pyplot as plt\n",
    "%matplotlib inline"
   ]
  },
  {
   "cell_type": "code",
   "execution_count": 3,
   "id": "affa76fb",
   "metadata": {},
   "outputs": [],
   "source": [
    "import numpy as np"
   ]
  },
  {
   "cell_type": "markdown",
   "id": "c80cd6cf",
   "metadata": {},
   "source": [
    "## Accessing the Data"
   ]
  },
  {
   "cell_type": "code",
   "execution_count": 4,
   "id": "a31aa02c",
   "metadata": {},
   "outputs": [],
   "source": [
    "data = pd.read_excel(\"Animated Dashboard.xlsx\",sheet_name=\"Data Source\")"
   ]
  },
  {
   "cell_type": "markdown",
   "id": "2e126884",
   "metadata": {},
   "source": [
    "## Reading the Data"
   ]
  },
  {
   "cell_type": "code",
   "execution_count": 5,
   "id": "33ba5d34",
   "metadata": {},
   "outputs": [
    {
     "data": {
      "text/html": [
       "<div>\n",
       "<style scoped>\n",
       "    .dataframe tbody tr th:only-of-type {\n",
       "        vertical-align: middle;\n",
       "    }\n",
       "\n",
       "    .dataframe tbody tr th {\n",
       "        vertical-align: top;\n",
       "    }\n",
       "\n",
       "    .dataframe thead th {\n",
       "        text-align: right;\n",
       "    }\n",
       "</style>\n",
       "<table border=\"1\" class=\"dataframe\">\n",
       "  <thead>\n",
       "    <tr style=\"text-align: right;\">\n",
       "      <th></th>\n",
       "      <th>Month</th>\n",
       "      <th>Main Category</th>\n",
       "      <th>Category</th>\n",
       "      <th>Sub - Category</th>\n",
       "      <th>Amount</th>\n",
       "      <th>Bill Due Date</th>\n",
       "      <th>Status</th>\n",
       "      <th>Unnamed: 7</th>\n",
       "      <th>Unnamed: 8</th>\n",
       "      <th>Unnamed: 9</th>\n",
       "      <th>Unnamed: 10</th>\n",
       "      <th>Unnamed: 11</th>\n",
       "      <th>Month.1</th>\n",
       "      <th>Income Goal</th>\n",
       "      <th>Unnamed: 14</th>\n",
       "      <th>Unnamed: 15</th>\n",
       "      <th>Assets</th>\n",
       "      <th>Goals</th>\n",
       "    </tr>\n",
       "  </thead>\n",
       "  <tbody>\n",
       "    <tr>\n",
       "      <th>0</th>\n",
       "      <td>Jan</td>\n",
       "      <td>Expenses</td>\n",
       "      <td>Housing</td>\n",
       "      <td>Cleaning</td>\n",
       "      <td>400</td>\n",
       "      <td>2023-01-07</td>\n",
       "      <td>Paid</td>\n",
       "      <td>NaN</td>\n",
       "      <td>NaN</td>\n",
       "      <td>NaN</td>\n",
       "      <td>NaN</td>\n",
       "      <td>NaN</td>\n",
       "      <td>Jan</td>\n",
       "      <td>23111.0</td>\n",
       "      <td>NaN</td>\n",
       "      <td>NaN</td>\n",
       "      <td>Gold</td>\n",
       "      <td>15700.0</td>\n",
       "    </tr>\n",
       "    <tr>\n",
       "      <th>1</th>\n",
       "      <td>Jan</td>\n",
       "      <td>Expenses</td>\n",
       "      <td>Housing</td>\n",
       "      <td>Electric</td>\n",
       "      <td>280</td>\n",
       "      <td>2023-01-02</td>\n",
       "      <td>Late</td>\n",
       "      <td>NaN</td>\n",
       "      <td>NaN</td>\n",
       "      <td>NaN</td>\n",
       "      <td>NaN</td>\n",
       "      <td>NaN</td>\n",
       "      <td>Feb</td>\n",
       "      <td>26344.0</td>\n",
       "      <td>NaN</td>\n",
       "      <td>NaN</td>\n",
       "      <td>Bonds</td>\n",
       "      <td>65800.0</td>\n",
       "    </tr>\n",
       "    <tr>\n",
       "      <th>2</th>\n",
       "      <td>Jan</td>\n",
       "      <td>Expenses</td>\n",
       "      <td>Housing</td>\n",
       "      <td>Insurance</td>\n",
       "      <td>77</td>\n",
       "      <td>2023-01-02</td>\n",
       "      <td>Paid</td>\n",
       "      <td>NaN</td>\n",
       "      <td>NaN</td>\n",
       "      <td>NaN</td>\n",
       "      <td>NaN</td>\n",
       "      <td>NaN</td>\n",
       "      <td>Mar</td>\n",
       "      <td>29577.0</td>\n",
       "      <td>NaN</td>\n",
       "      <td>NaN</td>\n",
       "      <td>Stock</td>\n",
       "      <td>22500.0</td>\n",
       "    </tr>\n",
       "    <tr>\n",
       "      <th>3</th>\n",
       "      <td>Jan</td>\n",
       "      <td>Expenses</td>\n",
       "      <td>Housing</td>\n",
       "      <td>Internet</td>\n",
       "      <td>350</td>\n",
       "      <td>2023-01-03</td>\n",
       "      <td>Late</td>\n",
       "      <td>NaN</td>\n",
       "      <td>NaN</td>\n",
       "      <td>NaN</td>\n",
       "      <td>NaN</td>\n",
       "      <td>NaN</td>\n",
       "      <td>Apr</td>\n",
       "      <td>32810.0</td>\n",
       "      <td>NaN</td>\n",
       "      <td>NaN</td>\n",
       "      <td>Warehouse</td>\n",
       "      <td>120000.0</td>\n",
       "    </tr>\n",
       "    <tr>\n",
       "      <th>4</th>\n",
       "      <td>Jan</td>\n",
       "      <td>Expenses</td>\n",
       "      <td>Housing</td>\n",
       "      <td>Water</td>\n",
       "      <td>100</td>\n",
       "      <td>2023-01-04</td>\n",
       "      <td>Paid</td>\n",
       "      <td>NaN</td>\n",
       "      <td>NaN</td>\n",
       "      <td>NaN</td>\n",
       "      <td>NaN</td>\n",
       "      <td>NaN</td>\n",
       "      <td>May</td>\n",
       "      <td>36043.0</td>\n",
       "      <td>NaN</td>\n",
       "      <td>NaN</td>\n",
       "      <td>Land</td>\n",
       "      <td>135000.0</td>\n",
       "    </tr>\n",
       "    <tr>\n",
       "      <th>...</th>\n",
       "      <td>...</td>\n",
       "      <td>...</td>\n",
       "      <td>...</td>\n",
       "      <td>...</td>\n",
       "      <td>...</td>\n",
       "      <td>...</td>\n",
       "      <td>...</td>\n",
       "      <td>...</td>\n",
       "      <td>...</td>\n",
       "      <td>...</td>\n",
       "      <td>...</td>\n",
       "      <td>...</td>\n",
       "      <td>...</td>\n",
       "      <td>...</td>\n",
       "      <td>...</td>\n",
       "      <td>...</td>\n",
       "      <td>...</td>\n",
       "      <td>...</td>\n",
       "    </tr>\n",
       "    <tr>\n",
       "      <th>295</th>\n",
       "      <td>Dec</td>\n",
       "      <td>Expenses</td>\n",
       "      <td>Transportation</td>\n",
       "      <td>Other</td>\n",
       "      <td>778</td>\n",
       "      <td>2023-12-09</td>\n",
       "      <td>Paid</td>\n",
       "      <td>NaN</td>\n",
       "      <td>NaN</td>\n",
       "      <td>NaN</td>\n",
       "      <td>NaN</td>\n",
       "      <td>NaN</td>\n",
       "      <td>NaN</td>\n",
       "      <td>NaN</td>\n",
       "      <td>NaN</td>\n",
       "      <td>NaN</td>\n",
       "      <td>NaN</td>\n",
       "      <td>NaN</td>\n",
       "    </tr>\n",
       "    <tr>\n",
       "      <th>296</th>\n",
       "      <td>Dec</td>\n",
       "      <td>Income</td>\n",
       "      <td>Main Income</td>\n",
       "      <td>Salary</td>\n",
       "      <td>25000</td>\n",
       "      <td>NaT</td>\n",
       "      <td>NaN</td>\n",
       "      <td>NaN</td>\n",
       "      <td>NaN</td>\n",
       "      <td>NaN</td>\n",
       "      <td>NaN</td>\n",
       "      <td>NaN</td>\n",
       "      <td>NaN</td>\n",
       "      <td>NaN</td>\n",
       "      <td>NaN</td>\n",
       "      <td>NaN</td>\n",
       "      <td>NaN</td>\n",
       "      <td>NaN</td>\n",
       "    </tr>\n",
       "    <tr>\n",
       "      <th>297</th>\n",
       "      <td>Dec</td>\n",
       "      <td>Income</td>\n",
       "      <td>Main Income</td>\n",
       "      <td>My Shop</td>\n",
       "      <td>5000</td>\n",
       "      <td>NaT</td>\n",
       "      <td>NaN</td>\n",
       "      <td>NaN</td>\n",
       "      <td>NaN</td>\n",
       "      <td>NaN</td>\n",
       "      <td>NaN</td>\n",
       "      <td>NaN</td>\n",
       "      <td>NaN</td>\n",
       "      <td>NaN</td>\n",
       "      <td>NaN</td>\n",
       "      <td>NaN</td>\n",
       "      <td>NaN</td>\n",
       "      <td>NaN</td>\n",
       "    </tr>\n",
       "    <tr>\n",
       "      <th>298</th>\n",
       "      <td>Dec</td>\n",
       "      <td>Income</td>\n",
       "      <td>Side Income</td>\n",
       "      <td>E-commerce</td>\n",
       "      <td>400</td>\n",
       "      <td>NaT</td>\n",
       "      <td>NaN</td>\n",
       "      <td>NaN</td>\n",
       "      <td>NaN</td>\n",
       "      <td>NaN</td>\n",
       "      <td>NaN</td>\n",
       "      <td>NaN</td>\n",
       "      <td>NaN</td>\n",
       "      <td>NaN</td>\n",
       "      <td>NaN</td>\n",
       "      <td>NaN</td>\n",
       "      <td>NaN</td>\n",
       "      <td>NaN</td>\n",
       "    </tr>\n",
       "    <tr>\n",
       "      <th>299</th>\n",
       "      <td>Dec</td>\n",
       "      <td>Income</td>\n",
       "      <td>Side Income</td>\n",
       "      <td>Google Adsecne</td>\n",
       "      <td>300</td>\n",
       "      <td>NaT</td>\n",
       "      <td>NaN</td>\n",
       "      <td>NaN</td>\n",
       "      <td>NaN</td>\n",
       "      <td>NaN</td>\n",
       "      <td>NaN</td>\n",
       "      <td>NaN</td>\n",
       "      <td>NaN</td>\n",
       "      <td>NaN</td>\n",
       "      <td>NaN</td>\n",
       "      <td>NaN</td>\n",
       "      <td>NaN</td>\n",
       "      <td>NaN</td>\n",
       "    </tr>\n",
       "  </tbody>\n",
       "</table>\n",
       "<p>300 rows × 18 columns</p>\n",
       "</div>"
      ],
      "text/plain": [
       "    Month Main Category        Category  Sub - Category  Amount Bill Due Date  \\\n",
       "0     Jan      Expenses         Housing        Cleaning     400    2023-01-07   \n",
       "1     Jan      Expenses         Housing        Electric     280    2023-01-02   \n",
       "2     Jan      Expenses         Housing       Insurance      77    2023-01-02   \n",
       "3     Jan      Expenses         Housing        Internet     350    2023-01-03   \n",
       "4     Jan      Expenses         Housing           Water     100    2023-01-04   \n",
       "..    ...           ...             ...             ...     ...           ...   \n",
       "295   Dec      Expenses  Transportation           Other     778    2023-12-09   \n",
       "296   Dec        Income     Main Income          Salary   25000           NaT   \n",
       "297   Dec        Income     Main Income         My Shop    5000           NaT   \n",
       "298   Dec        Income     Side Income      E-commerce     400           NaT   \n",
       "299   Dec        Income     Side Income  Google Adsecne     300           NaT   \n",
       "\n",
       "     Status  Unnamed: 7  Unnamed: 8  Unnamed: 9  Unnamed: 10  Unnamed: 11  \\\n",
       "0      Paid         NaN         NaN         NaN          NaN          NaN   \n",
       "1     Late          NaN         NaN         NaN          NaN          NaN   \n",
       "2      Paid         NaN         NaN         NaN          NaN          NaN   \n",
       "3     Late          NaN         NaN         NaN          NaN          NaN   \n",
       "4      Paid         NaN         NaN         NaN          NaN          NaN   \n",
       "..      ...         ...         ...         ...          ...          ...   \n",
       "295   Paid          NaN         NaN         NaN          NaN          NaN   \n",
       "296     NaN         NaN         NaN         NaN          NaN          NaN   \n",
       "297     NaN         NaN         NaN         NaN          NaN          NaN   \n",
       "298     NaN         NaN         NaN         NaN          NaN          NaN   \n",
       "299     NaN         NaN         NaN         NaN          NaN          NaN   \n",
       "\n",
       "    Month.1  Income Goal  Unnamed: 14  Unnamed: 15     Assets     Goals  \n",
       "0       Jan      23111.0          NaN          NaN       Gold   15700.0  \n",
       "1       Feb      26344.0          NaN          NaN      Bonds   65800.0  \n",
       "2       Mar      29577.0          NaN          NaN     Stock    22500.0  \n",
       "3       Apr      32810.0          NaN          NaN  Warehouse  120000.0  \n",
       "4       May      36043.0          NaN          NaN       Land  135000.0  \n",
       "..      ...          ...          ...          ...        ...       ...  \n",
       "295     NaN          NaN          NaN          NaN        NaN       NaN  \n",
       "296     NaN          NaN          NaN          NaN        NaN       NaN  \n",
       "297     NaN          NaN          NaN          NaN        NaN       NaN  \n",
       "298     NaN          NaN          NaN          NaN        NaN       NaN  \n",
       "299     NaN          NaN          NaN          NaN        NaN       NaN  \n",
       "\n",
       "[300 rows x 18 columns]"
      ]
     },
     "execution_count": 5,
     "metadata": {},
     "output_type": "execute_result"
    }
   ],
   "source": [
    "data"
   ]
  },
  {
   "cell_type": "markdown",
   "id": "c39b46d3",
   "metadata": {},
   "source": [
    "## Dropping all the null Value Columns"
   ]
  },
  {
   "cell_type": "code",
   "execution_count": 6,
   "id": "0d7071f9",
   "metadata": {},
   "outputs": [],
   "source": [
    "data.dropna(axis=\"columns\",how=\"all\",inplace=True)"
   ]
  },
  {
   "cell_type": "code",
   "execution_count": 7,
   "id": "7f620414",
   "metadata": {},
   "outputs": [
    {
     "data": {
      "text/html": [
       "<div>\n",
       "<style scoped>\n",
       "    .dataframe tbody tr th:only-of-type {\n",
       "        vertical-align: middle;\n",
       "    }\n",
       "\n",
       "    .dataframe tbody tr th {\n",
       "        vertical-align: top;\n",
       "    }\n",
       "\n",
       "    .dataframe thead th {\n",
       "        text-align: right;\n",
       "    }\n",
       "</style>\n",
       "<table border=\"1\" class=\"dataframe\">\n",
       "  <thead>\n",
       "    <tr style=\"text-align: right;\">\n",
       "      <th></th>\n",
       "      <th>Month</th>\n",
       "      <th>Main Category</th>\n",
       "      <th>Category</th>\n",
       "      <th>Sub - Category</th>\n",
       "      <th>Amount</th>\n",
       "      <th>Bill Due Date</th>\n",
       "      <th>Status</th>\n",
       "      <th>Month.1</th>\n",
       "      <th>Income Goal</th>\n",
       "      <th>Assets</th>\n",
       "      <th>Goals</th>\n",
       "    </tr>\n",
       "  </thead>\n",
       "  <tbody>\n",
       "    <tr>\n",
       "      <th>0</th>\n",
       "      <td>Jan</td>\n",
       "      <td>Expenses</td>\n",
       "      <td>Housing</td>\n",
       "      <td>Cleaning</td>\n",
       "      <td>400</td>\n",
       "      <td>2023-01-07</td>\n",
       "      <td>Paid</td>\n",
       "      <td>Jan</td>\n",
       "      <td>23111.0</td>\n",
       "      <td>Gold</td>\n",
       "      <td>15700.0</td>\n",
       "    </tr>\n",
       "    <tr>\n",
       "      <th>1</th>\n",
       "      <td>Jan</td>\n",
       "      <td>Expenses</td>\n",
       "      <td>Housing</td>\n",
       "      <td>Electric</td>\n",
       "      <td>280</td>\n",
       "      <td>2023-01-02</td>\n",
       "      <td>Late</td>\n",
       "      <td>Feb</td>\n",
       "      <td>26344.0</td>\n",
       "      <td>Bonds</td>\n",
       "      <td>65800.0</td>\n",
       "    </tr>\n",
       "    <tr>\n",
       "      <th>2</th>\n",
       "      <td>Jan</td>\n",
       "      <td>Expenses</td>\n",
       "      <td>Housing</td>\n",
       "      <td>Insurance</td>\n",
       "      <td>77</td>\n",
       "      <td>2023-01-02</td>\n",
       "      <td>Paid</td>\n",
       "      <td>Mar</td>\n",
       "      <td>29577.0</td>\n",
       "      <td>Stock</td>\n",
       "      <td>22500.0</td>\n",
       "    </tr>\n",
       "    <tr>\n",
       "      <th>3</th>\n",
       "      <td>Jan</td>\n",
       "      <td>Expenses</td>\n",
       "      <td>Housing</td>\n",
       "      <td>Internet</td>\n",
       "      <td>350</td>\n",
       "      <td>2023-01-03</td>\n",
       "      <td>Late</td>\n",
       "      <td>Apr</td>\n",
       "      <td>32810.0</td>\n",
       "      <td>Warehouse</td>\n",
       "      <td>120000.0</td>\n",
       "    </tr>\n",
       "    <tr>\n",
       "      <th>4</th>\n",
       "      <td>Jan</td>\n",
       "      <td>Expenses</td>\n",
       "      <td>Housing</td>\n",
       "      <td>Water</td>\n",
       "      <td>100</td>\n",
       "      <td>2023-01-04</td>\n",
       "      <td>Paid</td>\n",
       "      <td>May</td>\n",
       "      <td>36043.0</td>\n",
       "      <td>Land</td>\n",
       "      <td>135000.0</td>\n",
       "    </tr>\n",
       "    <tr>\n",
       "      <th>...</th>\n",
       "      <td>...</td>\n",
       "      <td>...</td>\n",
       "      <td>...</td>\n",
       "      <td>...</td>\n",
       "      <td>...</td>\n",
       "      <td>...</td>\n",
       "      <td>...</td>\n",
       "      <td>...</td>\n",
       "      <td>...</td>\n",
       "      <td>...</td>\n",
       "      <td>...</td>\n",
       "    </tr>\n",
       "    <tr>\n",
       "      <th>295</th>\n",
       "      <td>Dec</td>\n",
       "      <td>Expenses</td>\n",
       "      <td>Transportation</td>\n",
       "      <td>Other</td>\n",
       "      <td>778</td>\n",
       "      <td>2023-12-09</td>\n",
       "      <td>Paid</td>\n",
       "      <td>NaN</td>\n",
       "      <td>NaN</td>\n",
       "      <td>NaN</td>\n",
       "      <td>NaN</td>\n",
       "    </tr>\n",
       "    <tr>\n",
       "      <th>296</th>\n",
       "      <td>Dec</td>\n",
       "      <td>Income</td>\n",
       "      <td>Main Income</td>\n",
       "      <td>Salary</td>\n",
       "      <td>25000</td>\n",
       "      <td>NaT</td>\n",
       "      <td>NaN</td>\n",
       "      <td>NaN</td>\n",
       "      <td>NaN</td>\n",
       "      <td>NaN</td>\n",
       "      <td>NaN</td>\n",
       "    </tr>\n",
       "    <tr>\n",
       "      <th>297</th>\n",
       "      <td>Dec</td>\n",
       "      <td>Income</td>\n",
       "      <td>Main Income</td>\n",
       "      <td>My Shop</td>\n",
       "      <td>5000</td>\n",
       "      <td>NaT</td>\n",
       "      <td>NaN</td>\n",
       "      <td>NaN</td>\n",
       "      <td>NaN</td>\n",
       "      <td>NaN</td>\n",
       "      <td>NaN</td>\n",
       "    </tr>\n",
       "    <tr>\n",
       "      <th>298</th>\n",
       "      <td>Dec</td>\n",
       "      <td>Income</td>\n",
       "      <td>Side Income</td>\n",
       "      <td>E-commerce</td>\n",
       "      <td>400</td>\n",
       "      <td>NaT</td>\n",
       "      <td>NaN</td>\n",
       "      <td>NaN</td>\n",
       "      <td>NaN</td>\n",
       "      <td>NaN</td>\n",
       "      <td>NaN</td>\n",
       "    </tr>\n",
       "    <tr>\n",
       "      <th>299</th>\n",
       "      <td>Dec</td>\n",
       "      <td>Income</td>\n",
       "      <td>Side Income</td>\n",
       "      <td>Google Adsecne</td>\n",
       "      <td>300</td>\n",
       "      <td>NaT</td>\n",
       "      <td>NaN</td>\n",
       "      <td>NaN</td>\n",
       "      <td>NaN</td>\n",
       "      <td>NaN</td>\n",
       "      <td>NaN</td>\n",
       "    </tr>\n",
       "  </tbody>\n",
       "</table>\n",
       "<p>300 rows × 11 columns</p>\n",
       "</div>"
      ],
      "text/plain": [
       "    Month Main Category        Category  Sub - Category  Amount Bill Due Date  \\\n",
       "0     Jan      Expenses         Housing        Cleaning     400    2023-01-07   \n",
       "1     Jan      Expenses         Housing        Electric     280    2023-01-02   \n",
       "2     Jan      Expenses         Housing       Insurance      77    2023-01-02   \n",
       "3     Jan      Expenses         Housing        Internet     350    2023-01-03   \n",
       "4     Jan      Expenses         Housing           Water     100    2023-01-04   \n",
       "..    ...           ...             ...             ...     ...           ...   \n",
       "295   Dec      Expenses  Transportation           Other     778    2023-12-09   \n",
       "296   Dec        Income     Main Income          Salary   25000           NaT   \n",
       "297   Dec        Income     Main Income         My Shop    5000           NaT   \n",
       "298   Dec        Income     Side Income      E-commerce     400           NaT   \n",
       "299   Dec        Income     Side Income  Google Adsecne     300           NaT   \n",
       "\n",
       "     Status Month.1  Income Goal     Assets     Goals  \n",
       "0      Paid     Jan      23111.0       Gold   15700.0  \n",
       "1     Late      Feb      26344.0      Bonds   65800.0  \n",
       "2      Paid     Mar      29577.0     Stock    22500.0  \n",
       "3     Late      Apr      32810.0  Warehouse  120000.0  \n",
       "4      Paid     May      36043.0       Land  135000.0  \n",
       "..      ...     ...          ...        ...       ...  \n",
       "295   Paid      NaN          NaN        NaN       NaN  \n",
       "296     NaN     NaN          NaN        NaN       NaN  \n",
       "297     NaN     NaN          NaN        NaN       NaN  \n",
       "298     NaN     NaN          NaN        NaN       NaN  \n",
       "299     NaN     NaN          NaN        NaN       NaN  \n",
       "\n",
       "[300 rows x 11 columns]"
      ]
     },
     "execution_count": 7,
     "metadata": {},
     "output_type": "execute_result"
    }
   ],
   "source": [
    "data"
   ]
  },
  {
   "cell_type": "markdown",
   "id": "397d061e",
   "metadata": {},
   "source": [
    "## Renaming Month.1 to Month2"
   ]
  },
  {
   "cell_type": "code",
   "execution_count": 8,
   "id": "c85d00c5",
   "metadata": {},
   "outputs": [
    {
     "data": {
      "text/html": [
       "<div>\n",
       "<style scoped>\n",
       "    .dataframe tbody tr th:only-of-type {\n",
       "        vertical-align: middle;\n",
       "    }\n",
       "\n",
       "    .dataframe tbody tr th {\n",
       "        vertical-align: top;\n",
       "    }\n",
       "\n",
       "    .dataframe thead th {\n",
       "        text-align: right;\n",
       "    }\n",
       "</style>\n",
       "<table border=\"1\" class=\"dataframe\">\n",
       "  <thead>\n",
       "    <tr style=\"text-align: right;\">\n",
       "      <th></th>\n",
       "      <th>Month</th>\n",
       "      <th>Main Category</th>\n",
       "      <th>Category</th>\n",
       "      <th>Sub - Category</th>\n",
       "      <th>Amount</th>\n",
       "      <th>Bill Due Date</th>\n",
       "      <th>Status</th>\n",
       "      <th>Month2</th>\n",
       "      <th>Income Goal</th>\n",
       "      <th>Assets</th>\n",
       "      <th>Goals</th>\n",
       "    </tr>\n",
       "  </thead>\n",
       "  <tbody>\n",
       "    <tr>\n",
       "      <th>0</th>\n",
       "      <td>Jan</td>\n",
       "      <td>Expenses</td>\n",
       "      <td>Housing</td>\n",
       "      <td>Cleaning</td>\n",
       "      <td>400</td>\n",
       "      <td>2023-01-07</td>\n",
       "      <td>Paid</td>\n",
       "      <td>Jan</td>\n",
       "      <td>23111.0</td>\n",
       "      <td>Gold</td>\n",
       "      <td>15700.0</td>\n",
       "    </tr>\n",
       "    <tr>\n",
       "      <th>1</th>\n",
       "      <td>Jan</td>\n",
       "      <td>Expenses</td>\n",
       "      <td>Housing</td>\n",
       "      <td>Electric</td>\n",
       "      <td>280</td>\n",
       "      <td>2023-01-02</td>\n",
       "      <td>Late</td>\n",
       "      <td>Feb</td>\n",
       "      <td>26344.0</td>\n",
       "      <td>Bonds</td>\n",
       "      <td>65800.0</td>\n",
       "    </tr>\n",
       "    <tr>\n",
       "      <th>2</th>\n",
       "      <td>Jan</td>\n",
       "      <td>Expenses</td>\n",
       "      <td>Housing</td>\n",
       "      <td>Insurance</td>\n",
       "      <td>77</td>\n",
       "      <td>2023-01-02</td>\n",
       "      <td>Paid</td>\n",
       "      <td>Mar</td>\n",
       "      <td>29577.0</td>\n",
       "      <td>Stock</td>\n",
       "      <td>22500.0</td>\n",
       "    </tr>\n",
       "    <tr>\n",
       "      <th>3</th>\n",
       "      <td>Jan</td>\n",
       "      <td>Expenses</td>\n",
       "      <td>Housing</td>\n",
       "      <td>Internet</td>\n",
       "      <td>350</td>\n",
       "      <td>2023-01-03</td>\n",
       "      <td>Late</td>\n",
       "      <td>Apr</td>\n",
       "      <td>32810.0</td>\n",
       "      <td>Warehouse</td>\n",
       "      <td>120000.0</td>\n",
       "    </tr>\n",
       "    <tr>\n",
       "      <th>4</th>\n",
       "      <td>Jan</td>\n",
       "      <td>Expenses</td>\n",
       "      <td>Housing</td>\n",
       "      <td>Water</td>\n",
       "      <td>100</td>\n",
       "      <td>2023-01-04</td>\n",
       "      <td>Paid</td>\n",
       "      <td>May</td>\n",
       "      <td>36043.0</td>\n",
       "      <td>Land</td>\n",
       "      <td>135000.0</td>\n",
       "    </tr>\n",
       "    <tr>\n",
       "      <th>...</th>\n",
       "      <td>...</td>\n",
       "      <td>...</td>\n",
       "      <td>...</td>\n",
       "      <td>...</td>\n",
       "      <td>...</td>\n",
       "      <td>...</td>\n",
       "      <td>...</td>\n",
       "      <td>...</td>\n",
       "      <td>...</td>\n",
       "      <td>...</td>\n",
       "      <td>...</td>\n",
       "    </tr>\n",
       "    <tr>\n",
       "      <th>295</th>\n",
       "      <td>Dec</td>\n",
       "      <td>Expenses</td>\n",
       "      <td>Transportation</td>\n",
       "      <td>Other</td>\n",
       "      <td>778</td>\n",
       "      <td>2023-12-09</td>\n",
       "      <td>Paid</td>\n",
       "      <td>NaN</td>\n",
       "      <td>NaN</td>\n",
       "      <td>NaN</td>\n",
       "      <td>NaN</td>\n",
       "    </tr>\n",
       "    <tr>\n",
       "      <th>296</th>\n",
       "      <td>Dec</td>\n",
       "      <td>Income</td>\n",
       "      <td>Main Income</td>\n",
       "      <td>Salary</td>\n",
       "      <td>25000</td>\n",
       "      <td>NaT</td>\n",
       "      <td>NaN</td>\n",
       "      <td>NaN</td>\n",
       "      <td>NaN</td>\n",
       "      <td>NaN</td>\n",
       "      <td>NaN</td>\n",
       "    </tr>\n",
       "    <tr>\n",
       "      <th>297</th>\n",
       "      <td>Dec</td>\n",
       "      <td>Income</td>\n",
       "      <td>Main Income</td>\n",
       "      <td>My Shop</td>\n",
       "      <td>5000</td>\n",
       "      <td>NaT</td>\n",
       "      <td>NaN</td>\n",
       "      <td>NaN</td>\n",
       "      <td>NaN</td>\n",
       "      <td>NaN</td>\n",
       "      <td>NaN</td>\n",
       "    </tr>\n",
       "    <tr>\n",
       "      <th>298</th>\n",
       "      <td>Dec</td>\n",
       "      <td>Income</td>\n",
       "      <td>Side Income</td>\n",
       "      <td>E-commerce</td>\n",
       "      <td>400</td>\n",
       "      <td>NaT</td>\n",
       "      <td>NaN</td>\n",
       "      <td>NaN</td>\n",
       "      <td>NaN</td>\n",
       "      <td>NaN</td>\n",
       "      <td>NaN</td>\n",
       "    </tr>\n",
       "    <tr>\n",
       "      <th>299</th>\n",
       "      <td>Dec</td>\n",
       "      <td>Income</td>\n",
       "      <td>Side Income</td>\n",
       "      <td>Google Adsecne</td>\n",
       "      <td>300</td>\n",
       "      <td>NaT</td>\n",
       "      <td>NaN</td>\n",
       "      <td>NaN</td>\n",
       "      <td>NaN</td>\n",
       "      <td>NaN</td>\n",
       "      <td>NaN</td>\n",
       "    </tr>\n",
       "  </tbody>\n",
       "</table>\n",
       "<p>300 rows × 11 columns</p>\n",
       "</div>"
      ],
      "text/plain": [
       "    Month Main Category        Category  Sub - Category  Amount Bill Due Date  \\\n",
       "0     Jan      Expenses         Housing        Cleaning     400    2023-01-07   \n",
       "1     Jan      Expenses         Housing        Electric     280    2023-01-02   \n",
       "2     Jan      Expenses         Housing       Insurance      77    2023-01-02   \n",
       "3     Jan      Expenses         Housing        Internet     350    2023-01-03   \n",
       "4     Jan      Expenses         Housing           Water     100    2023-01-04   \n",
       "..    ...           ...             ...             ...     ...           ...   \n",
       "295   Dec      Expenses  Transportation           Other     778    2023-12-09   \n",
       "296   Dec        Income     Main Income          Salary   25000           NaT   \n",
       "297   Dec        Income     Main Income         My Shop    5000           NaT   \n",
       "298   Dec        Income     Side Income      E-commerce     400           NaT   \n",
       "299   Dec        Income     Side Income  Google Adsecne     300           NaT   \n",
       "\n",
       "     Status Month2  Income Goal     Assets     Goals  \n",
       "0      Paid    Jan      23111.0       Gold   15700.0  \n",
       "1     Late     Feb      26344.0      Bonds   65800.0  \n",
       "2      Paid    Mar      29577.0     Stock    22500.0  \n",
       "3     Late     Apr      32810.0  Warehouse  120000.0  \n",
       "4      Paid    May      36043.0       Land  135000.0  \n",
       "..      ...    ...          ...        ...       ...  \n",
       "295   Paid     NaN          NaN        NaN       NaN  \n",
       "296     NaN    NaN          NaN        NaN       NaN  \n",
       "297     NaN    NaN          NaN        NaN       NaN  \n",
       "298     NaN    NaN          NaN        NaN       NaN  \n",
       "299     NaN    NaN          NaN        NaN       NaN  \n",
       "\n",
       "[300 rows x 11 columns]"
      ]
     },
     "execution_count": 8,
     "metadata": {},
     "output_type": "execute_result"
    }
   ],
   "source": [
    "data.rename(columns={\"Month.1\":\"Month2\"})"
   ]
  },
  {
   "cell_type": "markdown",
   "id": "38435ecf",
   "metadata": {},
   "source": [
    "## Display Monthly Income and expenses"
   ]
  },
  {
   "cell_type": "code",
   "execution_count": 9,
   "id": "c92d6f62",
   "metadata": {},
   "outputs": [
    {
     "data": {
      "text/plain": [
       "array(['Jan', 'Feb', 'Mar', 'Apr', 'May', 'Jun', 'Jul', 'Sep', 'Oct',\n",
       "       'Nov', 'Aug', 'Dec'], dtype=object)"
      ]
     },
     "execution_count": 9,
     "metadata": {},
     "output_type": "execute_result"
    }
   ],
   "source": [
    "data[\"Month\"].unique()"
   ]
  },
  {
   "cell_type": "code",
   "execution_count": 23,
   "id": "34ec993e",
   "metadata": {},
   "outputs": [],
   "source": [
    "months = ['Jan', 'Feb', 'Mar', 'Apr', 'May', 'Jun', 'Jul', 'Sep', 'Oct',\n",
    "       'Nov', 'Aug', 'Dec']\n",
    "expenses = []\n",
    "incomes = []"
   ]
  },
  {
   "cell_type": "code",
   "execution_count": 50,
   "id": "2fd98744",
   "metadata": {},
   "outputs": [
    {
     "data": {
      "text/plain": [
       "{'Jan': 6460,\n",
       " 'Feb': 13890,\n",
       " 'Mar': 17010,\n",
       " 'Apr': 21880,\n",
       " 'May': 23050,\n",
       " 'Jun': 30700,\n",
       " 'Jul': 6460,\n",
       " 'Sep': 17010,\n",
       " 'Oct': 21880,\n",
       " 'Nov': 23050,\n",
       " 'Aug': 13890,\n",
       " 'Dec': 30700}"
      ]
     },
     "execution_count": 50,
     "metadata": {},
     "output_type": "execute_result"
    }
   ],
   "source": [
    "for month in months:\n",
    "    incomes.append(data[(data[\"Month\"]==month) & (data[\"Main Category\"]==\"Income\")][\"Amount\"].sum())\n",
    "    \n",
    "monthly_income = zip(months,incomes)\n",
    "monthly_income = dict(monthly_income)\n",
    "monthly_income\n",
    "    "
   ]
  },
  {
   "cell_type": "code",
   "execution_count": 51,
   "id": "c7da7495",
   "metadata": {},
   "outputs": [
    {
     "data": {
      "text/plain": [
       "{'Jan': 11037,\n",
       " 'Feb': 13047,\n",
       " 'Mar': 12254,\n",
       " 'Apr': 10049,\n",
       " 'May': 10192,\n",
       " 'Jun': 12263,\n",
       " 'Jul': 11037,\n",
       " 'Sep': 12254,\n",
       " 'Oct': 10049,\n",
       " 'Nov': 10192,\n",
       " 'Aug': 13042,\n",
       " 'Dec': 12263}"
      ]
     },
     "execution_count": 51,
     "metadata": {},
     "output_type": "execute_result"
    }
   ],
   "source": [
    "for month in months:\n",
    "    expenses.append(data[(data[\"Month\"]==month) & (data[\"Main Category\"]==\"Expenses\")][\"Amount\"].sum())\n",
    "    \n",
    "monthly_expense = zip(months,expenses)\n",
    "monthly_expense = dict(monthly_expense)\n",
    "monthly_expense"
   ]
  },
  {
   "cell_type": "markdown",
   "id": "7c7c09ce",
   "metadata": {},
   "source": [
    "## Monthly Income Visualization"
   ]
  },
  {
   "cell_type": "code",
   "execution_count": 54,
   "id": "33f62cf6",
   "metadata": {},
   "outputs": [
    {
     "data": {
      "image/png": "[encoded data removed]",
      "text/plain": [
       "<Figure size 720x360 with 1 Axes>"
      ]
     },
     "metadata": {
      "needs_background": "light"
     },
     "output_type": "display_data"
    }
   ],
   "source": [
    "plt.figure(figsize=(10,5))\n",
    "plt.plot(months,incomes,\"*\",linestyle=\"dotted\",markersize=10,color=\"black\")\n",
    "plt.xlabel(\"Months\",color=\"r\")\n",
    "plt.ylabel(\"Income\",color=\"r\")\n",
    "plt.title(\"Monthly Income\",color=\"b\")\n",
    "plt.show()"
   ]
  },
  {
   "cell_type": "markdown",
   "id": "0711464a",
   "metadata": {},
   "source": [
    "## Monthly Expense Visualization"
   ]
  },
  {
   "cell_type": "code",
   "execution_count": 55,
   "id": "15413b2a",
   "metadata": {},
   "outputs": [
    {
     "data": {
      "image/png": "[encoded data removed]",
      "text/plain": [
       "<Figure size 720x360 with 1 Axes>"
      ]
     },
     "metadata": {
      "needs_background": "light"
     },
     "output_type": "display_data"
    }
   ],
   "source": [
    "plt.figure(figsize=(10,5))\n",
    "plt.plot(months,expenses,\"*\",linestyle=\"dotted\",markersize=10)\n",
    "plt.xlabel(\"Months\",color=\"r\")\n",
    "plt.ylabel(\"Expenses\",color=\"r\")\n",
    "plt.title(\"Monthly Expenses\",color=\"b\")\n",
    "plt.show()"
   ]
  },
  {
   "cell_type": "markdown",
   "id": "1c475f80",
   "metadata": {},
   "source": [
    "## Combined Monthly Income and Expenses Visualization"
   ]
  },
  {
   "cell_type": "code",
   "execution_count": 56,
   "id": "55fb0351",
   "metadata": {},
   "outputs": [
    {
     "data": {
      "image/png": "[encoded data removed]",
      "text/plain": [
       "<Figure size 720x360 with 1 Axes>"
      ]
     },
     "metadata": {
      "needs_background": "light"
     },
     "output_type": "display_data"
    }
   ],
   "source": [
    "plt.figure(figsize=(10,5))\n",
    "plt.plot(months,expenses,\"*\",linestyle=\"dotted\",markersize=10,label=\"Expenses\")\n",
    "plt.plot(months,incomes,color=\"black\",linestyle=\"dotted\",marker=\"*\",markersize=10,label=\"Income\")\n",
    "plt.xlabel(\"Months\",color=\"red\")\n",
    "plt.ylabel(\"Income vs Expenses\",color=\"r\")\n",
    "plt.title(\"Monthly Income & Expenses\",color=\"b\")\n",
    "plt.legend(loc=\"best\",fontsize=\"large\",shadow=True)\n",
    "plt.show()"
   ]
  },
  {
   "cell_type": "markdown",
   "id": "6190b033",
   "metadata": {},
   "source": [
    "## Bar Graph Representation"
   ]
  },
  {
   "cell_type": "code",
   "execution_count": 118,
   "id": "6748e85d",
   "metadata": {},
   "outputs": [],
   "source": [
    "import numpy as np"
   ]
  },
  {
   "cell_type": "code",
   "execution_count": 57,
   "id": "24cdfb9b",
   "metadata": {},
   "outputs": [
    {
     "data": {
      "image/png": "[encoded data removed]",
      "text/plain": [
       "<Figure size 1080x360 with 1 Axes>"
      ]
     },
     "metadata": {
      "needs_background": "light"
     },
     "output_type": "display_data"
    }
   ],
   "source": [
    "xpos= np.arange(len(months))\n",
    "plt.figure(figsize=(15,5))\n",
    "plt.xticks(xpos,months)\n",
    "plt.bar(xpos-0.2,incomes,width=0.38,label=\"Income\",color=\"black\")\n",
    "plt.bar(xpos+0.2,expenses,width=0.38,label=\"Expenses\",color=\"purple\")\n",
    "plt.xlabel(\"Months\",color=\"r\")\n",
    "plt.ylabel(\"Income vs Expenses\",color=\"r\")\n",
    "plt.title(\"Monthly Income & Expenses\",color=\"b\")\n",
    "plt.legend(fontsize=\"large\",shadow=True)\n",
    "plt.show()"
   ]
  },
  {
   "cell_type": "code",
   "execution_count": 58,
   "id": "8a0670d7",
   "metadata": {},
   "outputs": [
    {
     "data": {
      "text/html": [
       "<div>\n",
       "<style scoped>\n",
       "    .dataframe tbody tr th:only-of-type {\n",
       "        vertical-align: middle;\n",
       "    }\n",
       "\n",
       "    .dataframe tbody tr th {\n",
       "        vertical-align: top;\n",
       "    }\n",
       "\n",
       "    .dataframe thead th {\n",
       "        text-align: right;\n",
       "    }\n",
       "</style>\n",
       "<table border=\"1\" class=\"dataframe\">\n",
       "  <thead>\n",
       "    <tr style=\"text-align: right;\">\n",
       "      <th></th>\n",
       "      <th>Month</th>\n",
       "      <th>Main Category</th>\n",
       "      <th>Category</th>\n",
       "      <th>Sub - Category</th>\n",
       "      <th>Amount</th>\n",
       "      <th>Bill Due Date</th>\n",
       "      <th>Status</th>\n",
       "      <th>Month.1</th>\n",
       "      <th>Income Goal</th>\n",
       "      <th>Assets</th>\n",
       "      <th>Goals</th>\n",
       "    </tr>\n",
       "  </thead>\n",
       "  <tbody>\n",
       "    <tr>\n",
       "      <th>0</th>\n",
       "      <td>Jan</td>\n",
       "      <td>Expenses</td>\n",
       "      <td>Housing</td>\n",
       "      <td>Cleaning</td>\n",
       "      <td>400</td>\n",
       "      <td>2023-01-07</td>\n",
       "      <td>Paid</td>\n",
       "      <td>Jan</td>\n",
       "      <td>23111.0</td>\n",
       "      <td>Gold</td>\n",
       "      <td>15700.0</td>\n",
       "    </tr>\n",
       "    <tr>\n",
       "      <th>1</th>\n",
       "      <td>Jan</td>\n",
       "      <td>Expenses</td>\n",
       "      <td>Housing</td>\n",
       "      <td>Electric</td>\n",
       "      <td>280</td>\n",
       "      <td>2023-01-02</td>\n",
       "      <td>Late</td>\n",
       "      <td>Feb</td>\n",
       "      <td>26344.0</td>\n",
       "      <td>Bonds</td>\n",
       "      <td>65800.0</td>\n",
       "    </tr>\n",
       "    <tr>\n",
       "      <th>2</th>\n",
       "      <td>Jan</td>\n",
       "      <td>Expenses</td>\n",
       "      <td>Housing</td>\n",
       "      <td>Insurance</td>\n",
       "      <td>77</td>\n",
       "      <td>2023-01-02</td>\n",
       "      <td>Paid</td>\n",
       "      <td>Mar</td>\n",
       "      <td>29577.0</td>\n",
       "      <td>Stock</td>\n",
       "      <td>22500.0</td>\n",
       "    </tr>\n",
       "    <tr>\n",
       "      <th>3</th>\n",
       "      <td>Jan</td>\n",
       "      <td>Expenses</td>\n",
       "      <td>Housing</td>\n",
       "      <td>Internet</td>\n",
       "      <td>350</td>\n",
       "      <td>2023-01-03</td>\n",
       "      <td>Late</td>\n",
       "      <td>Apr</td>\n",
       "      <td>32810.0</td>\n",
       "      <td>Warehouse</td>\n",
       "      <td>120000.0</td>\n",
       "    </tr>\n",
       "    <tr>\n",
       "      <th>4</th>\n",
       "      <td>Jan</td>\n",
       "      <td>Expenses</td>\n",
       "      <td>Housing</td>\n",
       "      <td>Water</td>\n",
       "      <td>100</td>\n",
       "      <td>2023-01-04</td>\n",
       "      <td>Paid</td>\n",
       "      <td>May</td>\n",
       "      <td>36043.0</td>\n",
       "      <td>Land</td>\n",
       "      <td>135000.0</td>\n",
       "    </tr>\n",
       "    <tr>\n",
       "      <th>...</th>\n",
       "      <td>...</td>\n",
       "      <td>...</td>\n",
       "      <td>...</td>\n",
       "      <td>...</td>\n",
       "      <td>...</td>\n",
       "      <td>...</td>\n",
       "      <td>...</td>\n",
       "      <td>...</td>\n",
       "      <td>...</td>\n",
       "      <td>...</td>\n",
       "      <td>...</td>\n",
       "    </tr>\n",
       "    <tr>\n",
       "      <th>295</th>\n",
       "      <td>Dec</td>\n",
       "      <td>Expenses</td>\n",
       "      <td>Transportation</td>\n",
       "      <td>Other</td>\n",
       "      <td>778</td>\n",
       "      <td>2023-12-09</td>\n",
       "      <td>Paid</td>\n",
       "      <td>NaN</td>\n",
       "      <td>NaN</td>\n",
       "      <td>NaN</td>\n",
       "      <td>NaN</td>\n",
       "    </tr>\n",
       "    <tr>\n",
       "      <th>296</th>\n",
       "      <td>Dec</td>\n",
       "      <td>Income</td>\n",
       "      <td>Main Income</td>\n",
       "      <td>Salary</td>\n",
       "      <td>25000</td>\n",
       "      <td>NaT</td>\n",
       "      <td>NaN</td>\n",
       "      <td>NaN</td>\n",
       "      <td>NaN</td>\n",
       "      <td>NaN</td>\n",
       "      <td>NaN</td>\n",
       "    </tr>\n",
       "    <tr>\n",
       "      <th>297</th>\n",
       "      <td>Dec</td>\n",
       "      <td>Income</td>\n",
       "      <td>Main Income</td>\n",
       "      <td>My Shop</td>\n",
       "      <td>5000</td>\n",
       "      <td>NaT</td>\n",
       "      <td>NaN</td>\n",
       "      <td>NaN</td>\n",
       "      <td>NaN</td>\n",
       "      <td>NaN</td>\n",
       "      <td>NaN</td>\n",
       "    </tr>\n",
       "    <tr>\n",
       "      <th>298</th>\n",
       "      <td>Dec</td>\n",
       "      <td>Income</td>\n",
       "      <td>Side Income</td>\n",
       "      <td>E-commerce</td>\n",
       "      <td>400</td>\n",
       "      <td>NaT</td>\n",
       "      <td>NaN</td>\n",
       "      <td>NaN</td>\n",
       "      <td>NaN</td>\n",
       "      <td>NaN</td>\n",
       "      <td>NaN</td>\n",
       "    </tr>\n",
       "    <tr>\n",
       "      <th>299</th>\n",
       "      <td>Dec</td>\n",
       "      <td>Income</td>\n",
       "      <td>Side Income</td>\n",
       "      <td>Google Adsecne</td>\n",
       "      <td>300</td>\n",
       "      <td>NaT</td>\n",
       "      <td>NaN</td>\n",
       "      <td>NaN</td>\n",
       "      <td>NaN</td>\n",
       "      <td>NaN</td>\n",
       "      <td>NaN</td>\n",
       "    </tr>\n",
       "  </tbody>\n",
       "</table>\n",
       "<p>300 rows × 11 columns</p>\n",
       "</div>"
      ],
      "text/plain": [
       "    Month Main Category        Category  Sub - Category  Amount Bill Due Date  \\\n",
       "0     Jan      Expenses         Housing        Cleaning     400    2023-01-07   \n",
       "1     Jan      Expenses         Housing        Electric     280    2023-01-02   \n",
       "2     Jan      Expenses         Housing       Insurance      77    2023-01-02   \n",
       "3     Jan      Expenses         Housing        Internet     350    2023-01-03   \n",
       "4     Jan      Expenses         Housing           Water     100    2023-01-04   \n",
       "..    ...           ...             ...             ...     ...           ...   \n",
       "295   Dec      Expenses  Transportation           Other     778    2023-12-09   \n",
       "296   Dec        Income     Main Income          Salary   25000           NaT   \n",
       "297   Dec        Income     Main Income         My Shop    5000           NaT   \n",
       "298   Dec        Income     Side Income      E-commerce     400           NaT   \n",
       "299   Dec        Income     Side Income  Google Adsecne     300           NaT   \n",
       "\n",
       "     Status Month.1  Income Goal     Assets     Goals  \n",
       "0      Paid     Jan      23111.0       Gold   15700.0  \n",
       "1     Late      Feb      26344.0      Bonds   65800.0  \n",
       "2      Paid     Mar      29577.0     Stock    22500.0  \n",
       "3     Late      Apr      32810.0  Warehouse  120000.0  \n",
       "4      Paid     May      36043.0       Land  135000.0  \n",
       "..      ...     ...          ...        ...       ...  \n",
       "295   Paid      NaN          NaN        NaN       NaN  \n",
       "296     NaN     NaN          NaN        NaN       NaN  \n",
       "297     NaN     NaN          NaN        NaN       NaN  \n",
       "298     NaN     NaN          NaN        NaN       NaN  \n",
       "299     NaN     NaN          NaN        NaN       NaN  \n",
       "\n",
       "[300 rows x 11 columns]"
      ]
     },
     "execution_count": 58,
     "metadata": {},
     "output_type": "execute_result"
    }
   ],
   "source": [
    "data"
   ]
  },
  {
   "cell_type": "markdown",
   "id": "92cd4a34",
   "metadata": {},
   "source": [
    "## What is the Maximum Expense in the Month January?"
   ]
  },
  {
   "cell_type": "code",
   "execution_count": 59,
   "id": "cf3f42e0",
   "metadata": {},
   "outputs": [
    {
     "data": {
      "text/plain": [
       "Category             Transportation\n",
       "Sub - Category    vehicle insurance\n",
       "Amount                         3000\n",
       "dtype: object"
      ]
     },
     "execution_count": 59,
     "metadata": {},
     "output_type": "execute_result"
    }
   ],
   "source": [
    "data[(data[\"Month\"]==\"Jan\") & (data[\"Main Category\"]==\"Expenses\")][[\"Category\", \"Sub - Category\", \"Amount\"]].max()"
   ]
  },
  {
   "cell_type": "markdown",
   "id": "3a99ef8c",
   "metadata": {},
   "source": [
    "## Which month we have the maximum and lowest Income?"
   ]
  },
  {
   "cell_type": "code",
   "execution_count": 60,
   "id": "e3ff094e",
   "metadata": {},
   "outputs": [
    {
     "data": {
      "text/plain": [
       "30700"
      ]
     },
     "execution_count": 60,
     "metadata": {},
     "output_type": "execute_result"
    }
   ],
   "source": [
    "max_income = max(incomes)\n",
    "max_income"
   ]
  },
  {
   "cell_type": "code",
   "execution_count": 63,
   "id": "21ac60a9",
   "metadata": {},
   "outputs": [
    {
     "data": {
      "text/plain": [
       "6460"
      ]
     },
     "execution_count": 63,
     "metadata": {},
     "output_type": "execute_result"
    }
   ],
   "source": [
    "min_income = min(incomes)\n",
    "min_income"
   ]
  },
  {
   "cell_type": "code",
   "execution_count": 64,
   "id": "8a77f1c6",
   "metadata": {},
   "outputs": [
    {
     "name": "stdout",
     "output_type": "stream",
     "text": [
      "Jun 30700\n",
      "Dec 30700\n"
     ]
    }
   ],
   "source": [
    "# MAX INCOME\n",
    "for month in months:\n",
    "    if data[(data[\"Month\"]==month) & (data[\"Main Category\"]==\"Income\")][\"Amount\"].sum() == max_income:\n",
    "        print(month, max_income)"
   ]
  },
  {
   "cell_type": "code",
   "execution_count": 65,
   "id": "dc9c5b33",
   "metadata": {},
   "outputs": [
    {
     "name": "stdout",
     "output_type": "stream",
     "text": [
      "Jan 6460\n",
      "Jul 6460\n"
     ]
    }
   ],
   "source": [
    "# MIN INCOME\n",
    "for month in months:\n",
    "    if data[(data[\"Month\"]==month) & (data[\"Main Category\"]==\"Income\")][\"Amount\"].sum() == min_income:\n",
    "        print(month, min_income)"
   ]
  },
  {
   "cell_type": "markdown",
   "id": "7402d25d",
   "metadata": {},
   "source": [
    "## Dropping the Columns Month.1, Income Goal, Assests, Goals"
   ]
  },
  {
   "cell_type": "code",
   "execution_count": 66,
   "id": "7699b684",
   "metadata": {},
   "outputs": [],
   "source": [
    "data.drop([\"Month.1\",\"Income Goal\",\"Assets\",\"Goals\"],axis=1,inplace=True)"
   ]
  },
  {
   "cell_type": "code",
   "execution_count": 67,
   "id": "4242cbbf",
   "metadata": {},
   "outputs": [
    {
     "data": {
      "text/html": [
       "<div>\n",
       "<style scoped>\n",
       "    .dataframe tbody tr th:only-of-type {\n",
       "        vertical-align: middle;\n",
       "    }\n",
       "\n",
       "    .dataframe tbody tr th {\n",
       "        vertical-align: top;\n",
       "    }\n",
       "\n",
       "    .dataframe thead th {\n",
       "        text-align: right;\n",
       "    }\n",
       "</style>\n",
       "<table border=\"1\" class=\"dataframe\">\n",
       "  <thead>\n",
       "    <tr style=\"text-align: right;\">\n",
       "      <th></th>\n",
       "      <th>Month</th>\n",
       "      <th>Main Category</th>\n",
       "      <th>Category</th>\n",
       "      <th>Sub - Category</th>\n",
       "      <th>Amount</th>\n",
       "      <th>Bill Due Date</th>\n",
       "      <th>Status</th>\n",
       "    </tr>\n",
       "  </thead>\n",
       "  <tbody>\n",
       "    <tr>\n",
       "      <th>0</th>\n",
       "      <td>Jan</td>\n",
       "      <td>Expenses</td>\n",
       "      <td>Housing</td>\n",
       "      <td>Cleaning</td>\n",
       "      <td>400</td>\n",
       "      <td>2023-01-07</td>\n",
       "      <td>Paid</td>\n",
       "    </tr>\n",
       "    <tr>\n",
       "      <th>1</th>\n",
       "      <td>Jan</td>\n",
       "      <td>Expenses</td>\n",
       "      <td>Housing</td>\n",
       "      <td>Electric</td>\n",
       "      <td>280</td>\n",
       "      <td>2023-01-02</td>\n",
       "      <td>Late</td>\n",
       "    </tr>\n",
       "    <tr>\n",
       "      <th>2</th>\n",
       "      <td>Jan</td>\n",
       "      <td>Expenses</td>\n",
       "      <td>Housing</td>\n",
       "      <td>Insurance</td>\n",
       "      <td>77</td>\n",
       "      <td>2023-01-02</td>\n",
       "      <td>Paid</td>\n",
       "    </tr>\n",
       "    <tr>\n",
       "      <th>3</th>\n",
       "      <td>Jan</td>\n",
       "      <td>Expenses</td>\n",
       "      <td>Housing</td>\n",
       "      <td>Internet</td>\n",
       "      <td>350</td>\n",
       "      <td>2023-01-03</td>\n",
       "      <td>Late</td>\n",
       "    </tr>\n",
       "    <tr>\n",
       "      <th>4</th>\n",
       "      <td>Jan</td>\n",
       "      <td>Expenses</td>\n",
       "      <td>Housing</td>\n",
       "      <td>Water</td>\n",
       "      <td>100</td>\n",
       "      <td>2023-01-04</td>\n",
       "      <td>Paid</td>\n",
       "    </tr>\n",
       "    <tr>\n",
       "      <th>...</th>\n",
       "      <td>...</td>\n",
       "      <td>...</td>\n",
       "      <td>...</td>\n",
       "      <td>...</td>\n",
       "      <td>...</td>\n",
       "      <td>...</td>\n",
       "      <td>...</td>\n",
       "    </tr>\n",
       "    <tr>\n",
       "      <th>295</th>\n",
       "      <td>Dec</td>\n",
       "      <td>Expenses</td>\n",
       "      <td>Transportation</td>\n",
       "      <td>Other</td>\n",
       "      <td>778</td>\n",
       "      <td>2023-12-09</td>\n",
       "      <td>Paid</td>\n",
       "    </tr>\n",
       "    <tr>\n",
       "      <th>296</th>\n",
       "      <td>Dec</td>\n",
       "      <td>Income</td>\n",
       "      <td>Main Income</td>\n",
       "      <td>Salary</td>\n",
       "      <td>25000</td>\n",
       "      <td>NaT</td>\n",
       "      <td>NaN</td>\n",
       "    </tr>\n",
       "    <tr>\n",
       "      <th>297</th>\n",
       "      <td>Dec</td>\n",
       "      <td>Income</td>\n",
       "      <td>Main Income</td>\n",
       "      <td>My Shop</td>\n",
       "      <td>5000</td>\n",
       "      <td>NaT</td>\n",
       "      <td>NaN</td>\n",
       "    </tr>\n",
       "    <tr>\n",
       "      <th>298</th>\n",
       "      <td>Dec</td>\n",
       "      <td>Income</td>\n",
       "      <td>Side Income</td>\n",
       "      <td>E-commerce</td>\n",
       "      <td>400</td>\n",
       "      <td>NaT</td>\n",
       "      <td>NaN</td>\n",
       "    </tr>\n",
       "    <tr>\n",
       "      <th>299</th>\n",
       "      <td>Dec</td>\n",
       "      <td>Income</td>\n",
       "      <td>Side Income</td>\n",
       "      <td>Google Adsecne</td>\n",
       "      <td>300</td>\n",
       "      <td>NaT</td>\n",
       "      <td>NaN</td>\n",
       "    </tr>\n",
       "  </tbody>\n",
       "</table>\n",
       "<p>300 rows × 7 columns</p>\n",
       "</div>"
      ],
      "text/plain": [
       "    Month Main Category        Category  Sub - Category  Amount Bill Due Date  \\\n",
       "0     Jan      Expenses         Housing        Cleaning     400    2023-01-07   \n",
       "1     Jan      Expenses         Housing        Electric     280    2023-01-02   \n",
       "2     Jan      Expenses         Housing       Insurance      77    2023-01-02   \n",
       "3     Jan      Expenses         Housing        Internet     350    2023-01-03   \n",
       "4     Jan      Expenses         Housing           Water     100    2023-01-04   \n",
       "..    ...           ...             ...             ...     ...           ...   \n",
       "295   Dec      Expenses  Transportation           Other     778    2023-12-09   \n",
       "296   Dec        Income     Main Income          Salary   25000           NaT   \n",
       "297   Dec        Income     Main Income         My Shop    5000           NaT   \n",
       "298   Dec        Income     Side Income      E-commerce     400           NaT   \n",
       "299   Dec        Income     Side Income  Google Adsecne     300           NaT   \n",
       "\n",
       "     Status  \n",
       "0      Paid  \n",
       "1     Late   \n",
       "2      Paid  \n",
       "3     Late   \n",
       "4      Paid  \n",
       "..      ...  \n",
       "295   Paid   \n",
       "296     NaN  \n",
       "297     NaN  \n",
       "298     NaN  \n",
       "299     NaN  \n",
       "\n",
       "[300 rows x 7 columns]"
      ]
     },
     "execution_count": 67,
     "metadata": {},
     "output_type": "execute_result"
    }
   ],
   "source": [
    "data"
   ]
  },
  {
   "cell_type": "markdown",
   "id": "a1facee6",
   "metadata": {},
   "source": [
    "## How much Income we recieved from E-Commerce in a year?"
   ]
  },
  {
   "cell_type": "code",
   "execution_count": 68,
   "id": "a94e138b",
   "metadata": {},
   "outputs": [
    {
     "data": {
      "text/plain": [
       "3700"
      ]
     },
     "execution_count": 68,
     "metadata": {},
     "output_type": "execute_result"
    }
   ],
   "source": [
    "data[data[\"Sub - Category\"]==\"E-commerce\"][\"Amount\"].sum()"
   ]
  },
  {
   "cell_type": "markdown",
   "id": "f3062003",
   "metadata": {},
   "source": [
    "## Different types of Categories in Expenses"
   ]
  },
  {
   "cell_type": "code",
   "execution_count": 69,
   "id": "13981ea5",
   "metadata": {},
   "outputs": [
    {
     "data": {
      "text/plain": [
       "array(['Housing', 'Personal', 'Transportation'], dtype=object)"
      ]
     },
     "execution_count": 69,
     "metadata": {},
     "output_type": "execute_result"
    }
   ],
   "source": [
    "data[data[\"Main Category\"]==\"Expenses\"][\"Category\"].unique()"
   ]
  },
  {
   "cell_type": "markdown",
   "id": "3011c720",
   "metadata": {},
   "source": [
    "## Different types of Sub Categories in Expenses"
   ]
  },
  {
   "cell_type": "code",
   "execution_count": 70,
   "id": "8acb0f86",
   "metadata": {},
   "outputs": [
    {
     "data": {
      "text/plain": [
       "array(['Cleaning', 'Electric', 'Insurance', 'Internet', 'Water',\n",
       "       'Parking Fee', 'Rent', 'TV Subscription', 'Other', 'School loans',\n",
       "       'Shopping', 'Outing', 'Gas', 'vehicle insurance', 'Maintenance',\n",
       "       'Parking', 'Installment', 'Registration', 'Toll'], dtype=object)"
      ]
     },
     "execution_count": 70,
     "metadata": {},
     "output_type": "execute_result"
    }
   ],
   "source": [
    "data[data[\"Main Category\"]==\"Expenses\"][\"Sub - Category\"].unique()"
   ]
  },
  {
   "cell_type": "markdown",
   "id": "f54dc7d9",
   "metadata": {},
   "source": [
    "## Cleaning Expense per Month"
   ]
  },
  {
   "cell_type": "code",
   "execution_count": 71,
   "id": "51780e19",
   "metadata": {},
   "outputs": [
    {
     "name": "stdout",
     "output_type": "stream",
     "text": [
      "Jan 488\n",
      "Feb 645\n",
      "Mar 680\n",
      "Apr 670\n",
      "May 666\n",
      "Jun 990\n",
      "Jul 488\n",
      "Sep 680\n",
      "Oct 670\n",
      "Nov 666\n",
      "Aug 640\n",
      "Dec 990\n"
     ]
    }
   ],
   "source": [
    "cleaning_expense = []\n",
    "for month in months:\n",
    "    cleaning_expense.append(data[(data[\"Month\"]==month) & (data[\"Sub - Category\"]==\"Cleaning\")][\"Amount\"].sum())\n",
    "    print(month,data[(data[\"Month\"]==month) & (data[\"Sub - Category\"]==\"Cleaning\")][\"Amount\"].sum())"
   ]
  },
  {
   "cell_type": "markdown",
   "id": "cb560de6",
   "metadata": {},
   "source": [
    "## Monthly Cleaning Expense Visualization"
   ]
  },
  {
   "cell_type": "code",
   "execution_count": 89,
   "id": "a751931c",
   "metadata": {},
   "outputs": [
    {
     "data": {
      "image/png": "[encoded data removed]",
      "text/plain": [
       "<Figure size 720x360 with 1 Axes>"
      ]
     },
     "metadata": {
      "needs_background": "light"
     },
     "output_type": "display_data"
    }
   ],
   "source": [
    "plt.figure(figsize=(10,5))\n",
    "plt.plot(months,cleaning_expense,\"*\",markersize=10,linestyle=\"dotted\")\n",
    "plt.xlabel(\"Months\",color=\"red\")\n",
    "plt.ylabel(\"Cleaning Expense\",color=\"red\")\n",
    "plt.title(\"Monthly Cleaning Expense\",color=\"blue\")\n",
    "plt.show()"
   ]
  },
  {
   "cell_type": "code",
   "execution_count": 90,
   "id": "764ed6a6",
   "metadata": {},
   "outputs": [
    {
     "data": {
      "image/png": "[encoded data removed]",
      "text/plain": [
       "<Figure size 1080x360 with 1 Axes>"
      ]
     },
     "metadata": {
      "needs_background": "light"
     },
     "output_type": "display_data"
    }
   ],
   "source": [
    "plt.figure(figsize=(15,5))\n",
    "plt.bar(months,cleaning_expense,color=\"black\",width=0.5)\n",
    "plt.xlabel(\"Months\",color=\"r\")\n",
    "plt.ylabel(\"Cleaning Expense\", color=\"r\")\n",
    "plt.title(\"Monthly Cleaning Expense\",color=\"b\")\n",
    "plt.show()"
   ]
  },
  {
   "cell_type": "code",
   "execution_count": 91,
   "id": "c58c8d1e",
   "metadata": {},
   "outputs": [
    {
     "data": {
      "text/html": [
       "<div>\n",
       "<style scoped>\n",
       "    .dataframe tbody tr th:only-of-type {\n",
       "        vertical-align: middle;\n",
       "    }\n",
       "\n",
       "    .dataframe tbody tr th {\n",
       "        vertical-align: top;\n",
       "    }\n",
       "\n",
       "    .dataframe thead th {\n",
       "        text-align: right;\n",
       "    }\n",
       "</style>\n",
       "<table border=\"1\" class=\"dataframe\">\n",
       "  <thead>\n",
       "    <tr style=\"text-align: right;\">\n",
       "      <th></th>\n",
       "      <th>Month</th>\n",
       "      <th>Main Category</th>\n",
       "      <th>Category</th>\n",
       "      <th>Sub - Category</th>\n",
       "      <th>Amount</th>\n",
       "      <th>Bill Due Date</th>\n",
       "      <th>Status</th>\n",
       "    </tr>\n",
       "  </thead>\n",
       "  <tbody>\n",
       "    <tr>\n",
       "      <th>0</th>\n",
       "      <td>Jan</td>\n",
       "      <td>Expenses</td>\n",
       "      <td>Housing</td>\n",
       "      <td>Cleaning</td>\n",
       "      <td>400</td>\n",
       "      <td>2023-01-07</td>\n",
       "      <td>Paid</td>\n",
       "    </tr>\n",
       "    <tr>\n",
       "      <th>1</th>\n",
       "      <td>Jan</td>\n",
       "      <td>Expenses</td>\n",
       "      <td>Housing</td>\n",
       "      <td>Electric</td>\n",
       "      <td>280</td>\n",
       "      <td>2023-01-02</td>\n",
       "      <td>Late</td>\n",
       "    </tr>\n",
       "    <tr>\n",
       "      <th>2</th>\n",
       "      <td>Jan</td>\n",
       "      <td>Expenses</td>\n",
       "      <td>Housing</td>\n",
       "      <td>Insurance</td>\n",
       "      <td>77</td>\n",
       "      <td>2023-01-02</td>\n",
       "      <td>Paid</td>\n",
       "    </tr>\n",
       "    <tr>\n",
       "      <th>3</th>\n",
       "      <td>Jan</td>\n",
       "      <td>Expenses</td>\n",
       "      <td>Housing</td>\n",
       "      <td>Internet</td>\n",
       "      <td>350</td>\n",
       "      <td>2023-01-03</td>\n",
       "      <td>Late</td>\n",
       "    </tr>\n",
       "    <tr>\n",
       "      <th>4</th>\n",
       "      <td>Jan</td>\n",
       "      <td>Expenses</td>\n",
       "      <td>Housing</td>\n",
       "      <td>Water</td>\n",
       "      <td>100</td>\n",
       "      <td>2023-01-04</td>\n",
       "      <td>Paid</td>\n",
       "    </tr>\n",
       "    <tr>\n",
       "      <th>...</th>\n",
       "      <td>...</td>\n",
       "      <td>...</td>\n",
       "      <td>...</td>\n",
       "      <td>...</td>\n",
       "      <td>...</td>\n",
       "      <td>...</td>\n",
       "      <td>...</td>\n",
       "    </tr>\n",
       "    <tr>\n",
       "      <th>295</th>\n",
       "      <td>Dec</td>\n",
       "      <td>Expenses</td>\n",
       "      <td>Transportation</td>\n",
       "      <td>Other</td>\n",
       "      <td>778</td>\n",
       "      <td>2023-12-09</td>\n",
       "      <td>Paid</td>\n",
       "    </tr>\n",
       "    <tr>\n",
       "      <th>296</th>\n",
       "      <td>Dec</td>\n",
       "      <td>Income</td>\n",
       "      <td>Main Income</td>\n",
       "      <td>Salary</td>\n",
       "      <td>25000</td>\n",
       "      <td>NaT</td>\n",
       "      <td>NaN</td>\n",
       "    </tr>\n",
       "    <tr>\n",
       "      <th>297</th>\n",
       "      <td>Dec</td>\n",
       "      <td>Income</td>\n",
       "      <td>Main Income</td>\n",
       "      <td>My Shop</td>\n",
       "      <td>5000</td>\n",
       "      <td>NaT</td>\n",
       "      <td>NaN</td>\n",
       "    </tr>\n",
       "    <tr>\n",
       "      <th>298</th>\n",
       "      <td>Dec</td>\n",
       "      <td>Income</td>\n",
       "      <td>Side Income</td>\n",
       "      <td>E-commerce</td>\n",
       "      <td>400</td>\n",
       "      <td>NaT</td>\n",
       "      <td>NaN</td>\n",
       "    </tr>\n",
       "    <tr>\n",
       "      <th>299</th>\n",
       "      <td>Dec</td>\n",
       "      <td>Income</td>\n",
       "      <td>Side Income</td>\n",
       "      <td>Google Adsecne</td>\n",
       "      <td>300</td>\n",
       "      <td>NaT</td>\n",
       "      <td>NaN</td>\n",
       "    </tr>\n",
       "  </tbody>\n",
       "</table>\n",
       "<p>300 rows × 7 columns</p>\n",
       "</div>"
      ],
      "text/plain": [
       "    Month Main Category        Category  Sub - Category  Amount Bill Due Date  \\\n",
       "0     Jan      Expenses         Housing        Cleaning     400    2023-01-07   \n",
       "1     Jan      Expenses         Housing        Electric     280    2023-01-02   \n",
       "2     Jan      Expenses         Housing       Insurance      77    2023-01-02   \n",
       "3     Jan      Expenses         Housing        Internet     350    2023-01-03   \n",
       "4     Jan      Expenses         Housing           Water     100    2023-01-04   \n",
       "..    ...           ...             ...             ...     ...           ...   \n",
       "295   Dec      Expenses  Transportation           Other     778    2023-12-09   \n",
       "296   Dec        Income     Main Income          Salary   25000           NaT   \n",
       "297   Dec        Income     Main Income         My Shop    5000           NaT   \n",
       "298   Dec        Income     Side Income      E-commerce     400           NaT   \n",
       "299   Dec        Income     Side Income  Google Adsecne     300           NaT   \n",
       "\n",
       "     Status  \n",
       "0      Paid  \n",
       "1     Late   \n",
       "2      Paid  \n",
       "3     Late   \n",
       "4      Paid  \n",
       "..      ...  \n",
       "295   Paid   \n",
       "296     NaN  \n",
       "297     NaN  \n",
       "298     NaN  \n",
       "299     NaN  \n",
       "\n",
       "[300 rows x 7 columns]"
      ]
     },
     "execution_count": 91,
     "metadata": {},
     "output_type": "execute_result"
    }
   ],
   "source": [
    "data"
   ]
  },
  {
   "cell_type": "markdown",
   "id": "04bfa786",
   "metadata": {},
   "source": [
    "## Fill nan values in Bill Due Date with 0 and Status with Not Provided"
   ]
  },
  {
   "cell_type": "code",
   "execution_count": 100,
   "id": "acc80f68",
   "metadata": {},
   "outputs": [],
   "source": [
    "data.fillna({\"Bill Due Date\":0,\"Status\":\"Not Provided\"},inplace=True)"
   ]
  },
  {
   "cell_type": "code",
   "execution_count": 103,
   "id": "f3c8a0c7",
   "metadata": {},
   "outputs": [
    {
     "data": {
      "text/html": [
       "<div>\n",
       "<style scoped>\n",
       "    .dataframe tbody tr th:only-of-type {\n",
       "        vertical-align: middle;\n",
       "    }\n",
       "\n",
       "    .dataframe tbody tr th {\n",
       "        vertical-align: top;\n",
       "    }\n",
       "\n",
       "    .dataframe thead th {\n",
       "        text-align: right;\n",
       "    }\n",
       "</style>\n",
       "<table border=\"1\" class=\"dataframe\">\n",
       "  <thead>\n",
       "    <tr style=\"text-align: right;\">\n",
       "      <th></th>\n",
       "      <th>Month</th>\n",
       "      <th>Main Category</th>\n",
       "      <th>Category</th>\n",
       "      <th>Sub - Category</th>\n",
       "      <th>Amount</th>\n",
       "      <th>Bill Due Date</th>\n",
       "      <th>Status</th>\n",
       "    </tr>\n",
       "  </thead>\n",
       "  <tbody>\n",
       "    <tr>\n",
       "      <th>0</th>\n",
       "      <td>Jan</td>\n",
       "      <td>Expenses</td>\n",
       "      <td>Housing</td>\n",
       "      <td>Cleaning</td>\n",
       "      <td>400</td>\n",
       "      <td>2023-01-07 00:00:00</td>\n",
       "      <td>Paid</td>\n",
       "    </tr>\n",
       "    <tr>\n",
       "      <th>1</th>\n",
       "      <td>Jan</td>\n",
       "      <td>Expenses</td>\n",
       "      <td>Housing</td>\n",
       "      <td>Electric</td>\n",
       "      <td>280</td>\n",
       "      <td>2023-01-02 00:00:00</td>\n",
       "      <td>Late</td>\n",
       "    </tr>\n",
       "    <tr>\n",
       "      <th>2</th>\n",
       "      <td>Jan</td>\n",
       "      <td>Expenses</td>\n",
       "      <td>Housing</td>\n",
       "      <td>Insurance</td>\n",
       "      <td>77</td>\n",
       "      <td>2023-01-02 00:00:00</td>\n",
       "      <td>Paid</td>\n",
       "    </tr>\n",
       "    <tr>\n",
       "      <th>3</th>\n",
       "      <td>Jan</td>\n",
       "      <td>Expenses</td>\n",
       "      <td>Housing</td>\n",
       "      <td>Internet</td>\n",
       "      <td>350</td>\n",
       "      <td>2023-01-03 00:00:00</td>\n",
       "      <td>Late</td>\n",
       "    </tr>\n",
       "    <tr>\n",
       "      <th>4</th>\n",
       "      <td>Jan</td>\n",
       "      <td>Expenses</td>\n",
       "      <td>Housing</td>\n",
       "      <td>Water</td>\n",
       "      <td>100</td>\n",
       "      <td>2023-01-04 00:00:00</td>\n",
       "      <td>Paid</td>\n",
       "    </tr>\n",
       "    <tr>\n",
       "      <th>...</th>\n",
       "      <td>...</td>\n",
       "      <td>...</td>\n",
       "      <td>...</td>\n",
       "      <td>...</td>\n",
       "      <td>...</td>\n",
       "      <td>...</td>\n",
       "      <td>...</td>\n",
       "    </tr>\n",
       "    <tr>\n",
       "      <th>295</th>\n",
       "      <td>Dec</td>\n",
       "      <td>Expenses</td>\n",
       "      <td>Transportation</td>\n",
       "      <td>Other</td>\n",
       "      <td>778</td>\n",
       "      <td>2023-12-09 00:00:00</td>\n",
       "      <td>Paid</td>\n",
       "    </tr>\n",
       "    <tr>\n",
       "      <th>296</th>\n",
       "      <td>Dec</td>\n",
       "      <td>Income</td>\n",
       "      <td>Main Income</td>\n",
       "      <td>Salary</td>\n",
       "      <td>25000</td>\n",
       "      <td>0</td>\n",
       "      <td>Not Provided</td>\n",
       "    </tr>\n",
       "    <tr>\n",
       "      <th>297</th>\n",
       "      <td>Dec</td>\n",
       "      <td>Income</td>\n",
       "      <td>Main Income</td>\n",
       "      <td>My Shop</td>\n",
       "      <td>5000</td>\n",
       "      <td>0</td>\n",
       "      <td>Not Provided</td>\n",
       "    </tr>\n",
       "    <tr>\n",
       "      <th>298</th>\n",
       "      <td>Dec</td>\n",
       "      <td>Income</td>\n",
       "      <td>Side Income</td>\n",
       "      <td>E-commerce</td>\n",
       "      <td>400</td>\n",
       "      <td>0</td>\n",
       "      <td>Not Provided</td>\n",
       "    </tr>\n",
       "    <tr>\n",
       "      <th>299</th>\n",
       "      <td>Dec</td>\n",
       "      <td>Income</td>\n",
       "      <td>Side Income</td>\n",
       "      <td>Google Adsecne</td>\n",
       "      <td>300</td>\n",
       "      <td>0</td>\n",
       "      <td>Not Provided</td>\n",
       "    </tr>\n",
       "  </tbody>\n",
       "</table>\n",
       "<p>300 rows × 7 columns</p>\n",
       "</div>"
      ],
      "text/plain": [
       "    Month Main Category        Category  Sub - Category  Amount  \\\n",
       "0     Jan      Expenses         Housing        Cleaning     400   \n",
       "1     Jan      Expenses         Housing        Electric     280   \n",
       "2     Jan      Expenses         Housing       Insurance      77   \n",
       "3     Jan      Expenses         Housing        Internet     350   \n",
       "4     Jan      Expenses         Housing           Water     100   \n",
       "..    ...           ...             ...             ...     ...   \n",
       "295   Dec      Expenses  Transportation           Other     778   \n",
       "296   Dec        Income     Main Income          Salary   25000   \n",
       "297   Dec        Income     Main Income         My Shop    5000   \n",
       "298   Dec        Income     Side Income      E-commerce     400   \n",
       "299   Dec        Income     Side Income  Google Adsecne     300   \n",
       "\n",
       "           Bill Due Date        Status  \n",
       "0    2023-01-07 00:00:00          Paid  \n",
       "1    2023-01-02 00:00:00         Late   \n",
       "2    2023-01-02 00:00:00          Paid  \n",
       "3    2023-01-03 00:00:00         Late   \n",
       "4    2023-01-04 00:00:00          Paid  \n",
       "..                   ...           ...  \n",
       "295  2023-12-09 00:00:00         Paid   \n",
       "296                    0  Not Provided  \n",
       "297                    0  Not Provided  \n",
       "298                    0  Not Provided  \n",
       "299                    0  Not Provided  \n",
       "\n",
       "[300 rows x 7 columns]"
      ]
     },
     "execution_count": 103,
     "metadata": {},
     "output_type": "execute_result"
    }
   ],
   "source": [
    "data"
   ]
  },
  {
   "cell_type": "markdown",
   "id": "85ea742b",
   "metadata": {},
   "source": [
    "## Total number of expenses and income in the month January"
   ]
  },
  {
   "cell_type": "code",
   "execution_count": 104,
   "id": "7361b10d",
   "metadata": {},
   "outputs": [
    {
     "name": "stdout",
     "output_type": "stream",
     "text": [
      "Total Number of Expenses in Jan is 21\n"
     ]
    }
   ],
   "source": [
    "print(f'Total Number of Expenses in Jan is {len(data[(data[\"Month\"]==\"Jan\") & (data[\"Main Category\"]==\"Expenses\")])}')"
   ]
  },
  {
   "cell_type": "code",
   "execution_count": 105,
   "id": "c2a060f1",
   "metadata": {},
   "outputs": [
    {
     "name": "stdout",
     "output_type": "stream",
     "text": [
      "Total Number of Income in Jan is 4\n"
     ]
    }
   ],
   "source": [
    "print(f'Total Number of Income in Jan is {len(data[(data[\"Month\"]==\"Jan\") & (data[\"Main Category\"]==\"Income\")])}')"
   ]
  },
  {
   "cell_type": "markdown",
   "id": "008a1d70",
   "metadata": {},
   "source": [
    "## Quick Summary of the whole data"
   ]
  },
  {
   "cell_type": "code",
   "execution_count": 109,
   "id": "85d8a139",
   "metadata": {},
   "outputs": [
    {
     "name": "stdout",
     "output_type": "stream",
     "text": [
      "<class 'pandas.core.frame.DataFrame'>\n",
      "RangeIndex: 300 entries, 0 to 299\n",
      "Data columns (total 7 columns):\n",
      " #   Column          Non-Null Count  Dtype \n",
      "---  ------          --------------  ----- \n",
      " 0   Month           300 non-null    object\n",
      " 1   Main Category   300 non-null    object\n",
      " 2   Category        300 non-null    object\n",
      " 3   Sub - Category  300 non-null    object\n",
      " 4   Amount          300 non-null    int64 \n",
      " 5   Bill Due Date   300 non-null    object\n",
      " 6   Status          300 non-null    object\n",
      "dtypes: int64(1), object(6)\n",
      "memory usage: 16.5+ KB\n"
     ]
    }
   ],
   "source": [
    "data.info()"
   ]
  },
  {
   "cell_type": "code",
   "execution_count": 111,
   "id": "a9a9601b",
   "metadata": {},
   "outputs": [
    {
     "data": {
      "text/html": [
       "<div>\n",
       "<style scoped>\n",
       "    .dataframe tbody tr th:only-of-type {\n",
       "        vertical-align: middle;\n",
       "    }\n",
       "\n",
       "    .dataframe tbody tr th {\n",
       "        vertical-align: top;\n",
       "    }\n",
       "\n",
       "    .dataframe thead th {\n",
       "        text-align: right;\n",
       "    }\n",
       "</style>\n",
       "<table border=\"1\" class=\"dataframe\">\n",
       "  <thead>\n",
       "    <tr style=\"text-align: right;\">\n",
       "      <th></th>\n",
       "      <th>Month</th>\n",
       "      <th>Main Category</th>\n",
       "      <th>Category</th>\n",
       "      <th>Sub - Category</th>\n",
       "      <th>Amount</th>\n",
       "      <th>Bill Due Date</th>\n",
       "      <th>Status</th>\n",
       "    </tr>\n",
       "  </thead>\n",
       "  <tbody>\n",
       "    <tr>\n",
       "      <th>0</th>\n",
       "      <td>Jan</td>\n",
       "      <td>Expenses</td>\n",
       "      <td>Housing</td>\n",
       "      <td>Cleaning</td>\n",
       "      <td>400</td>\n",
       "      <td>2023-01-07 00:00:00</td>\n",
       "      <td>Paid</td>\n",
       "    </tr>\n",
       "    <tr>\n",
       "      <th>1</th>\n",
       "      <td>Jan</td>\n",
       "      <td>Expenses</td>\n",
       "      <td>Housing</td>\n",
       "      <td>Electric</td>\n",
       "      <td>280</td>\n",
       "      <td>2023-01-02 00:00:00</td>\n",
       "      <td>Late</td>\n",
       "    </tr>\n",
       "    <tr>\n",
       "      <th>2</th>\n",
       "      <td>Jan</td>\n",
       "      <td>Expenses</td>\n",
       "      <td>Housing</td>\n",
       "      <td>Insurance</td>\n",
       "      <td>77</td>\n",
       "      <td>2023-01-02 00:00:00</td>\n",
       "      <td>Paid</td>\n",
       "    </tr>\n",
       "    <tr>\n",
       "      <th>3</th>\n",
       "      <td>Jan</td>\n",
       "      <td>Expenses</td>\n",
       "      <td>Housing</td>\n",
       "      <td>Internet</td>\n",
       "      <td>350</td>\n",
       "      <td>2023-01-03 00:00:00</td>\n",
       "      <td>Late</td>\n",
       "    </tr>\n",
       "    <tr>\n",
       "      <th>4</th>\n",
       "      <td>Jan</td>\n",
       "      <td>Expenses</td>\n",
       "      <td>Housing</td>\n",
       "      <td>Water</td>\n",
       "      <td>100</td>\n",
       "      <td>2023-01-04 00:00:00</td>\n",
       "      <td>Paid</td>\n",
       "    </tr>\n",
       "    <tr>\n",
       "      <th>...</th>\n",
       "      <td>...</td>\n",
       "      <td>...</td>\n",
       "      <td>...</td>\n",
       "      <td>...</td>\n",
       "      <td>...</td>\n",
       "      <td>...</td>\n",
       "      <td>...</td>\n",
       "    </tr>\n",
       "    <tr>\n",
       "      <th>295</th>\n",
       "      <td>Dec</td>\n",
       "      <td>Expenses</td>\n",
       "      <td>Transportation</td>\n",
       "      <td>Other</td>\n",
       "      <td>778</td>\n",
       "      <td>2023-12-09 00:00:00</td>\n",
       "      <td>Paid</td>\n",
       "    </tr>\n",
       "    <tr>\n",
       "      <th>296</th>\n",
       "      <td>Dec</td>\n",
       "      <td>Income</td>\n",
       "      <td>Main Income</td>\n",
       "      <td>Salary</td>\n",
       "      <td>25000</td>\n",
       "      <td>0</td>\n",
       "      <td>Not Provided</td>\n",
       "    </tr>\n",
       "    <tr>\n",
       "      <th>297</th>\n",
       "      <td>Dec</td>\n",
       "      <td>Income</td>\n",
       "      <td>Main Income</td>\n",
       "      <td>My Shop</td>\n",
       "      <td>5000</td>\n",
       "      <td>0</td>\n",
       "      <td>Not Provided</td>\n",
       "    </tr>\n",
       "    <tr>\n",
       "      <th>298</th>\n",
       "      <td>Dec</td>\n",
       "      <td>Income</td>\n",
       "      <td>Side Income</td>\n",
       "      <td>E-commerce</td>\n",
       "      <td>400</td>\n",
       "      <td>0</td>\n",
       "      <td>Not Provided</td>\n",
       "    </tr>\n",
       "    <tr>\n",
       "      <th>299</th>\n",
       "      <td>Dec</td>\n",
       "      <td>Income</td>\n",
       "      <td>Side Income</td>\n",
       "      <td>Google Adsecne</td>\n",
       "      <td>300</td>\n",
       "      <td>0</td>\n",
       "      <td>Not Provided</td>\n",
       "    </tr>\n",
       "  </tbody>\n",
       "</table>\n",
       "<p>300 rows × 7 columns</p>\n",
       "</div>"
      ],
      "text/plain": [
       "    Month Main Category        Category  Sub - Category  Amount  \\\n",
       "0     Jan      Expenses         Housing        Cleaning     400   \n",
       "1     Jan      Expenses         Housing        Electric     280   \n",
       "2     Jan      Expenses         Housing       Insurance      77   \n",
       "3     Jan      Expenses         Housing        Internet     350   \n",
       "4     Jan      Expenses         Housing           Water     100   \n",
       "..    ...           ...             ...             ...     ...   \n",
       "295   Dec      Expenses  Transportation           Other     778   \n",
       "296   Dec        Income     Main Income          Salary   25000   \n",
       "297   Dec        Income     Main Income         My Shop    5000   \n",
       "298   Dec        Income     Side Income      E-commerce     400   \n",
       "299   Dec        Income     Side Income  Google Adsecne     300   \n",
       "\n",
       "           Bill Due Date        Status  \n",
       "0    2023-01-07 00:00:00          Paid  \n",
       "1    2023-01-02 00:00:00         Late   \n",
       "2    2023-01-02 00:00:00          Paid  \n",
       "3    2023-01-03 00:00:00         Late   \n",
       "4    2023-01-04 00:00:00          Paid  \n",
       "..                   ...           ...  \n",
       "295  2023-12-09 00:00:00         Paid   \n",
       "296                    0  Not Provided  \n",
       "297                    0  Not Provided  \n",
       "298                    0  Not Provided  \n",
       "299                    0  Not Provided  \n",
       "\n",
       "[300 rows x 7 columns]"
      ]
     },
     "execution_count": 111,
     "metadata": {},
     "output_type": "execute_result"
    }
   ],
   "source": [
    "data"
   ]
  },
  {
   "cell_type": "markdown",
   "id": "a032911c",
   "metadata": {},
   "source": [
    "## Percentage Increase or Decrease from month Jan to Feb in Income"
   ]
  },
  {
   "cell_type": "code",
   "execution_count": 116,
   "id": "f6928847",
   "metadata": {},
   "outputs": [],
   "source": [
    "jan_income = data[(data[\"Month\"]==\"Jan\") & (data[\"Main Category\"]==\"Income\")][\"Amount\"].sum()\n",
    "feb_income = data[(data[\"Month\"]==\"Feb\") & (data[\"Main Category\"]==\"Income\")][\"Amount\"].sum()"
   ]
  },
  {
   "cell_type": "code",
   "execution_count": 127,
   "id": "1d62a910",
   "metadata": {},
   "outputs": [
    {
     "name": "stdout",
     "output_type": "stream",
     "text": [
      "115.01547987616098 % Increase\n"
     ]
    }
   ],
   "source": [
    "if jan_income > feb_income:\n",
    "    print(((jan_income-feb_income)/jan_income)*100,\"% Decrease\")\n",
    "else:\n",
    "    print(((feb_income-jan_income)/jan_income)*100,\"% Increase\")\n",
    "    "
   ]
  },
  {
   "cell_type": "markdown",
   "id": "f1817e41",
   "metadata": {},
   "source": [
    "## Percentage Increase or Decrease Month Wise"
   ]
  },
  {
   "cell_type": "code",
   "execution_count": 168,
   "id": "6ae131a7",
   "metadata": {},
   "outputs": [],
   "source": [
    "percentage_income = []\n",
    "index = len(incomes)-1\n",
    "for i in range(index):\n",
    "    percentage_income.append(((((incomes[i+1]-incomes[i])/incomes[i])*100)))"
   ]
  },
  {
   "cell_type": "code",
   "execution_count": 173,
   "id": "c3471340",
   "metadata": {},
   "outputs": [],
   "source": [
    "monthwise = []\n",
    "month_index = len(months)-1\n",
    "for i in range(month_index):\n",
    "    monthwise.append((f\"{months[i]} - {months[i+1]}\"))"
   ]
  },
  {
   "cell_type": "code",
   "execution_count": 174,
   "id": "e1213542",
   "metadata": {},
   "outputs": [
    {
     "data": {
      "text/plain": [
       "{'Jan - Feb': 115.01547987616098,\n",
       " 'Feb - Mar': 22.4622030237581,\n",
       " 'Mar - Apr': 28.63021751910641,\n",
       " 'Apr - May': 5.347349177330896,\n",
       " 'May - Jun': 33.18872017353579,\n",
       " 'Jun - Jul': -78.95765472312704,\n",
       " 'Jul - Sep': 163.312693498452,\n",
       " 'Sep - Oct': 28.63021751910641,\n",
       " 'Oct - Nov': 5.347349177330896,\n",
       " 'Nov - Aug': -39.73969631236442,\n",
       " 'Aug - Dec': 121.02231821454284}"
      ]
     },
     "execution_count": 174,
     "metadata": {},
     "output_type": "execute_result"
    }
   ],
   "source": [
    "monthly_income_percentage = zip(monthwise,percentage_income)\n",
    "monthly_income_percentage = dict(monthly_income_percentage)\n",
    "monthly_income_percentage"
   ]
  },
  {
   "cell_type": "markdown",
   "id": "7941c34b",
   "metadata": {},
   "source": [
    "## Visualization of Percentage Change Month Wise"
   ]
  },
  {
   "cell_type": "code",
   "execution_count": 175,
   "id": "7ee8b936",
   "metadata": {},
   "outputs": [
    {
     "data": {
      "image/png": "[encoded data removed]",
      "text/plain": [
       "<Figure size 1080x360 with 1 Axes>"
      ]
     },
     "metadata": {
      "needs_background": "light"
     },
     "output_type": "display_data"
    }
   ],
   "source": [
    "plt.figure(figsize=(15,5))\n",
    "plt.plot(monthwise,percentage_income,\"H\",markersize=20,linestyle=\"dotted\",linewidth=1)\n",
    "plt.xlabel(\"Monthly\",color=\"red\")\n",
    "plt.ylabel(\"Income Change(%)\",color=\"red\")\n",
    "plt.title(\"Monthly Income Percentage Change\",color=\"blue\")\n",
    "plt.grid()\n",
    "plt.show()"
   ]
  },
  {
   "cell_type": "code",
   "execution_count": 189,
   "id": "b268d86c",
   "metadata": {},
   "outputs": [
    {
     "data": {
      "image/png": "[encoded data removed]",
      "text/plain": [
       "<Figure size 1080x360 with 1 Axes>"
      ]
     },
     "metadata": {
      "needs_background": "light"
     },
     "output_type": "display_data"
    }
   ],
   "source": [
    "plt.figure(figsize=(15,5))\n",
    "plt.bar(monthwise,percentage_income,color=\"black\",width=0.5)\n",
    "plt.xlabel(\"Monthly\",color=\"red\")\n",
    "plt.ylabel(\"Income Change(%)\",color=\"red\")\n",
    "plt.title(\"Monthly Income Percentage Change\",color=\"blue\")\n",
    "plt.grid(axis=\"y\")\n",
    "plt.show()"
   ]
  }
 ],
 "metadata": {
  "kernelspec": {
   "display_name": "Python 3 (ipykernel)",
   "language": "python",
   "name": "python3"
  },
  "language_info": {
   "codemirror_mode": {
    "name": "ipython",
    "version": 3
   },
   "file_extension": ".py",
   "mimetype": "text/x-python",
   "name": "python",
   "nbconvert_exporter": "python",
   "pygments_lexer": "ipython3",
   "version": "3.9.12"
  }
 },
 "nbformat": 4,
 "nbformat_minor": 5
}
